{
 "cells": [
  {
   "cell_type": "markdown",
   "metadata": {},
   "source": [
    "# 実践課題 vol.1\n",
    "AI_STANDARD 機械学習講座vol.1~ vol.5の学習のアウトプットとして、実践的な課題を解いて行きましょう。kaggleというデータサイエンスのコンペティションサイトにある、住宅価格予測のデータを使用した課題です。"
   ]
  },
  {
   "cell_type": "markdown",
   "metadata": {},
   "source": [
    "\n",
    "![](https://s3-ap-northeast-1.amazonaws.com/ai-std/kadai1-1.png)\n",
    "\n",
    "[kaggle: House Prices Competition link](https://www.kaggle.com/c/house-prices-advanced-regression-techniques)"
   ]
  },
  {
   "cell_type": "markdown",
   "metadata": {},
   "source": [
    "## データのダウンロード\n",
    "２つのデータをダウンロードして、jupyterを起動しているディレクトリに保存して下さい(右クリックでダウンロードを選択できます)。\n",
    "\n",
    " - <a href=\"https://s3-ap-northeast-1.amazonaws.com/ai-std/house_price.csv\" download=\"house_price.csv\">前処理済みデータ</a>\n",
    " - <a href=\"https://s3-ap-northeast-1.amazonaws.com/ai-std/y.csv\" download=\"y.csv\">正解データ</a>\n",
    " \n",
    " ![](https://s3-ap-northeast-1.amazonaws.com/ai-std/kadai1-2.png)"
   ]
  },
  {
   "cell_type": "code",
   "execution_count": 1,
   "metadata": {
    "collapsed": true
   },
   "outputs": [],
   "source": [
    "# モジュールのインポート\n",
    "\n",
    "import pandas as pd\n",
    "import numpy as  np\n",
    "import seaborn as sns\n",
    "import matplotlib.pyplot as plt\n",
    "% matplotlib inline\n",
    "\n",
    "data = pd.read_csv('house_price.csv')\n",
    "y = pd.read_csv('y.csv')\n"
   ]
  },
  {
   "cell_type": "markdown",
   "metadata": {},
   "source": [
    "### 問題１：dataの上から20行を表示してください。"
   ]
  },
  {
   "cell_type": "code",
   "execution_count": 2,
   "metadata": {},
   "outputs": [
    {
     "data": {
      "text/html": [
       "<div>\n",
       "<style>\n",
       "    .dataframe thead tr:only-child th {\n",
       "        text-align: right;\n",
       "    }\n",
       "\n",
       "    .dataframe thead th {\n",
       "        text-align: left;\n",
       "    }\n",
       "\n",
       "    .dataframe tbody tr th {\n",
       "        vertical-align: top;\n",
       "    }\n",
       "</style>\n",
       "<table border=\"1\" class=\"dataframe\">\n",
       "  <thead>\n",
       "    <tr style=\"text-align: right;\">\n",
       "      <th></th>\n",
       "      <th>LotFrontage</th>\n",
       "      <th>LotArea</th>\n",
       "      <th>Street</th>\n",
       "      <th>LotShape</th>\n",
       "      <th>Utilities</th>\n",
       "      <th>LandSlope</th>\n",
       "      <th>OverallQual</th>\n",
       "      <th>OverallCond</th>\n",
       "      <th>YearBuilt</th>\n",
       "      <th>YearRemodAdd</th>\n",
       "      <th>...</th>\n",
       "      <th>SaleType_ConLw</th>\n",
       "      <th>SaleType_New</th>\n",
       "      <th>SaleType_Oth</th>\n",
       "      <th>SaleType_WD</th>\n",
       "      <th>SaleCondition_Abnorml</th>\n",
       "      <th>SaleCondition_AdjLand</th>\n",
       "      <th>SaleCondition_Alloca</th>\n",
       "      <th>SaleCondition_Family</th>\n",
       "      <th>SaleCondition_Normal</th>\n",
       "      <th>SaleCondition_Partial</th>\n",
       "    </tr>\n",
       "  </thead>\n",
       "  <tbody>\n",
       "    <tr>\n",
       "      <th>0</th>\n",
       "      <td>65</td>\n",
       "      <td>9.042040</td>\n",
       "      <td>1.098612</td>\n",
       "      <td>1.609438</td>\n",
       "      <td>1.609438</td>\n",
       "      <td>1.386294</td>\n",
       "      <td>7</td>\n",
       "      <td>1.791759</td>\n",
       "      <td>7.602900</td>\n",
       "      <td>7.602900</td>\n",
       "      <td>...</td>\n",
       "      <td>0</td>\n",
       "      <td>0</td>\n",
       "      <td>0</td>\n",
       "      <td>1</td>\n",
       "      <td>0</td>\n",
       "      <td>0</td>\n",
       "      <td>0</td>\n",
       "      <td>0</td>\n",
       "      <td>1</td>\n",
       "      <td>0</td>\n",
       "    </tr>\n",
       "    <tr>\n",
       "      <th>1</th>\n",
       "      <td>80</td>\n",
       "      <td>9.169623</td>\n",
       "      <td>1.098612</td>\n",
       "      <td>1.609438</td>\n",
       "      <td>1.609438</td>\n",
       "      <td>1.386294</td>\n",
       "      <td>6</td>\n",
       "      <td>2.197225</td>\n",
       "      <td>7.589336</td>\n",
       "      <td>7.589336</td>\n",
       "      <td>...</td>\n",
       "      <td>0</td>\n",
       "      <td>0</td>\n",
       "      <td>0</td>\n",
       "      <td>1</td>\n",
       "      <td>0</td>\n",
       "      <td>0</td>\n",
       "      <td>0</td>\n",
       "      <td>0</td>\n",
       "      <td>1</td>\n",
       "      <td>0</td>\n",
       "    </tr>\n",
       "    <tr>\n",
       "      <th>2</th>\n",
       "      <td>68</td>\n",
       "      <td>9.328212</td>\n",
       "      <td>1.098612</td>\n",
       "      <td>1.386294</td>\n",
       "      <td>1.609438</td>\n",
       "      <td>1.386294</td>\n",
       "      <td>7</td>\n",
       "      <td>1.791759</td>\n",
       "      <td>7.601902</td>\n",
       "      <td>7.602401</td>\n",
       "      <td>...</td>\n",
       "      <td>0</td>\n",
       "      <td>0</td>\n",
       "      <td>0</td>\n",
       "      <td>1</td>\n",
       "      <td>0</td>\n",
       "      <td>0</td>\n",
       "      <td>0</td>\n",
       "      <td>0</td>\n",
       "      <td>1</td>\n",
       "      <td>0</td>\n",
       "    </tr>\n",
       "    <tr>\n",
       "      <th>3</th>\n",
       "      <td>60</td>\n",
       "      <td>9.164401</td>\n",
       "      <td>1.098612</td>\n",
       "      <td>1.386294</td>\n",
       "      <td>1.609438</td>\n",
       "      <td>1.386294</td>\n",
       "      <td>7</td>\n",
       "      <td>1.791759</td>\n",
       "      <td>7.557995</td>\n",
       "      <td>7.586296</td>\n",
       "      <td>...</td>\n",
       "      <td>0</td>\n",
       "      <td>0</td>\n",
       "      <td>0</td>\n",
       "      <td>1</td>\n",
       "      <td>1</td>\n",
       "      <td>0</td>\n",
       "      <td>0</td>\n",
       "      <td>0</td>\n",
       "      <td>0</td>\n",
       "      <td>0</td>\n",
       "    </tr>\n",
       "    <tr>\n",
       "      <th>4</th>\n",
       "      <td>84</td>\n",
       "      <td>9.565284</td>\n",
       "      <td>1.098612</td>\n",
       "      <td>1.386294</td>\n",
       "      <td>1.609438</td>\n",
       "      <td>1.386294</td>\n",
       "      <td>8</td>\n",
       "      <td>1.791759</td>\n",
       "      <td>7.601402</td>\n",
       "      <td>7.601402</td>\n",
       "      <td>...</td>\n",
       "      <td>0</td>\n",
       "      <td>0</td>\n",
       "      <td>0</td>\n",
       "      <td>1</td>\n",
       "      <td>0</td>\n",
       "      <td>0</td>\n",
       "      <td>0</td>\n",
       "      <td>0</td>\n",
       "      <td>1</td>\n",
       "      <td>0</td>\n",
       "    </tr>\n",
       "    <tr>\n",
       "      <th>5</th>\n",
       "      <td>85</td>\n",
       "      <td>9.555064</td>\n",
       "      <td>1.098612</td>\n",
       "      <td>1.386294</td>\n",
       "      <td>1.609438</td>\n",
       "      <td>1.386294</td>\n",
       "      <td>5</td>\n",
       "      <td>1.791759</td>\n",
       "      <td>7.597898</td>\n",
       "      <td>7.598900</td>\n",
       "      <td>...</td>\n",
       "      <td>0</td>\n",
       "      <td>0</td>\n",
       "      <td>0</td>\n",
       "      <td>1</td>\n",
       "      <td>0</td>\n",
       "      <td>0</td>\n",
       "      <td>0</td>\n",
       "      <td>0</td>\n",
       "      <td>1</td>\n",
       "      <td>0</td>\n",
       "    </tr>\n",
       "    <tr>\n",
       "      <th>6</th>\n",
       "      <td>75</td>\n",
       "      <td>9.218804</td>\n",
       "      <td>1.098612</td>\n",
       "      <td>1.609438</td>\n",
       "      <td>1.609438</td>\n",
       "      <td>1.386294</td>\n",
       "      <td>8</td>\n",
       "      <td>1.791759</td>\n",
       "      <td>7.603399</td>\n",
       "      <td>7.603898</td>\n",
       "      <td>...</td>\n",
       "      <td>0</td>\n",
       "      <td>0</td>\n",
       "      <td>0</td>\n",
       "      <td>1</td>\n",
       "      <td>0</td>\n",
       "      <td>0</td>\n",
       "      <td>0</td>\n",
       "      <td>0</td>\n",
       "      <td>1</td>\n",
       "      <td>0</td>\n",
       "    </tr>\n",
       "    <tr>\n",
       "      <th>7</th>\n",
       "      <td>0</td>\n",
       "      <td>9.247925</td>\n",
       "      <td>1.098612</td>\n",
       "      <td>1.386294</td>\n",
       "      <td>1.609438</td>\n",
       "      <td>1.386294</td>\n",
       "      <td>7</td>\n",
       "      <td>1.945910</td>\n",
       "      <td>7.587817</td>\n",
       "      <td>7.587817</td>\n",
       "      <td>...</td>\n",
       "      <td>0</td>\n",
       "      <td>0</td>\n",
       "      <td>0</td>\n",
       "      <td>1</td>\n",
       "      <td>0</td>\n",
       "      <td>0</td>\n",
       "      <td>0</td>\n",
       "      <td>0</td>\n",
       "      <td>1</td>\n",
       "      <td>0</td>\n",
       "    </tr>\n",
       "    <tr>\n",
       "      <th>8</th>\n",
       "      <td>51</td>\n",
       "      <td>8.719481</td>\n",
       "      <td>1.098612</td>\n",
       "      <td>1.609438</td>\n",
       "      <td>1.609438</td>\n",
       "      <td>1.386294</td>\n",
       "      <td>7</td>\n",
       "      <td>1.791759</td>\n",
       "      <td>7.566311</td>\n",
       "      <td>7.576097</td>\n",
       "      <td>...</td>\n",
       "      <td>0</td>\n",
       "      <td>0</td>\n",
       "      <td>0</td>\n",
       "      <td>1</td>\n",
       "      <td>1</td>\n",
       "      <td>0</td>\n",
       "      <td>0</td>\n",
       "      <td>0</td>\n",
       "      <td>0</td>\n",
       "      <td>0</td>\n",
       "    </tr>\n",
       "    <tr>\n",
       "      <th>9</th>\n",
       "      <td>50</td>\n",
       "      <td>8.912069</td>\n",
       "      <td>1.098612</td>\n",
       "      <td>1.609438</td>\n",
       "      <td>1.609438</td>\n",
       "      <td>1.386294</td>\n",
       "      <td>5</td>\n",
       "      <td>1.945910</td>\n",
       "      <td>7.570443</td>\n",
       "      <td>7.576097</td>\n",
       "      <td>...</td>\n",
       "      <td>0</td>\n",
       "      <td>0</td>\n",
       "      <td>0</td>\n",
       "      <td>1</td>\n",
       "      <td>0</td>\n",
       "      <td>0</td>\n",
       "      <td>0</td>\n",
       "      <td>0</td>\n",
       "      <td>1</td>\n",
       "      <td>0</td>\n",
       "    </tr>\n",
       "    <tr>\n",
       "      <th>10</th>\n",
       "      <td>70</td>\n",
       "      <td>9.323758</td>\n",
       "      <td>1.098612</td>\n",
       "      <td>1.609438</td>\n",
       "      <td>1.609438</td>\n",
       "      <td>1.386294</td>\n",
       "      <td>5</td>\n",
       "      <td>1.791759</td>\n",
       "      <td>7.583756</td>\n",
       "      <td>7.583756</td>\n",
       "      <td>...</td>\n",
       "      <td>0</td>\n",
       "      <td>0</td>\n",
       "      <td>0</td>\n",
       "      <td>1</td>\n",
       "      <td>0</td>\n",
       "      <td>0</td>\n",
       "      <td>0</td>\n",
       "      <td>0</td>\n",
       "      <td>1</td>\n",
       "      <td>0</td>\n",
       "    </tr>\n",
       "    <tr>\n",
       "      <th>11</th>\n",
       "      <td>85</td>\n",
       "      <td>9.386392</td>\n",
       "      <td>1.098612</td>\n",
       "      <td>1.386294</td>\n",
       "      <td>1.609438</td>\n",
       "      <td>1.386294</td>\n",
       "      <td>9</td>\n",
       "      <td>1.791759</td>\n",
       "      <td>7.603898</td>\n",
       "      <td>7.604396</td>\n",
       "      <td>...</td>\n",
       "      <td>0</td>\n",
       "      <td>1</td>\n",
       "      <td>0</td>\n",
       "      <td>0</td>\n",
       "      <td>0</td>\n",
       "      <td>0</td>\n",
       "      <td>0</td>\n",
       "      <td>0</td>\n",
       "      <td>0</td>\n",
       "      <td>1</td>\n",
       "    </tr>\n",
       "    <tr>\n",
       "      <th>12</th>\n",
       "      <td>0</td>\n",
       "      <td>9.470317</td>\n",
       "      <td>1.098612</td>\n",
       "      <td>1.098612</td>\n",
       "      <td>1.609438</td>\n",
       "      <td>1.386294</td>\n",
       "      <td>5</td>\n",
       "      <td>1.945910</td>\n",
       "      <td>7.582229</td>\n",
       "      <td>7.582229</td>\n",
       "      <td>...</td>\n",
       "      <td>0</td>\n",
       "      <td>0</td>\n",
       "      <td>0</td>\n",
       "      <td>1</td>\n",
       "      <td>0</td>\n",
       "      <td>0</td>\n",
       "      <td>0</td>\n",
       "      <td>0</td>\n",
       "      <td>1</td>\n",
       "      <td>0</td>\n",
       "    </tr>\n",
       "    <tr>\n",
       "      <th>13</th>\n",
       "      <td>91</td>\n",
       "      <td>9.273597</td>\n",
       "      <td>1.098612</td>\n",
       "      <td>1.386294</td>\n",
       "      <td>1.609438</td>\n",
       "      <td>1.386294</td>\n",
       "      <td>7</td>\n",
       "      <td>1.791759</td>\n",
       "      <td>7.604396</td>\n",
       "      <td>7.604894</td>\n",
       "      <td>...</td>\n",
       "      <td>0</td>\n",
       "      <td>1</td>\n",
       "      <td>0</td>\n",
       "      <td>0</td>\n",
       "      <td>0</td>\n",
       "      <td>0</td>\n",
       "      <td>0</td>\n",
       "      <td>0</td>\n",
       "      <td>0</td>\n",
       "      <td>1</td>\n",
       "    </tr>\n",
       "    <tr>\n",
       "      <th>14</th>\n",
       "      <td>0</td>\n",
       "      <td>9.298443</td>\n",
       "      <td>1.098612</td>\n",
       "      <td>1.386294</td>\n",
       "      <td>1.609438</td>\n",
       "      <td>1.386294</td>\n",
       "      <td>6</td>\n",
       "      <td>1.791759</td>\n",
       "      <td>7.581210</td>\n",
       "      <td>7.581210</td>\n",
       "      <td>...</td>\n",
       "      <td>0</td>\n",
       "      <td>0</td>\n",
       "      <td>0</td>\n",
       "      <td>1</td>\n",
       "      <td>0</td>\n",
       "      <td>0</td>\n",
       "      <td>0</td>\n",
       "      <td>0</td>\n",
       "      <td>1</td>\n",
       "      <td>0</td>\n",
       "    </tr>\n",
       "    <tr>\n",
       "      <th>15</th>\n",
       "      <td>51</td>\n",
       "      <td>8.719481</td>\n",
       "      <td>1.098612</td>\n",
       "      <td>1.609438</td>\n",
       "      <td>1.609438</td>\n",
       "      <td>1.386294</td>\n",
       "      <td>7</td>\n",
       "      <td>2.197225</td>\n",
       "      <td>7.565275</td>\n",
       "      <td>7.601902</td>\n",
       "      <td>...</td>\n",
       "      <td>0</td>\n",
       "      <td>0</td>\n",
       "      <td>0</td>\n",
       "      <td>1</td>\n",
       "      <td>0</td>\n",
       "      <td>0</td>\n",
       "      <td>0</td>\n",
       "      <td>0</td>\n",
       "      <td>1</td>\n",
       "      <td>0</td>\n",
       "    </tr>\n",
       "    <tr>\n",
       "      <th>16</th>\n",
       "      <td>0</td>\n",
       "      <td>9.327412</td>\n",
       "      <td>1.098612</td>\n",
       "      <td>1.386294</td>\n",
       "      <td>1.609438</td>\n",
       "      <td>1.386294</td>\n",
       "      <td>6</td>\n",
       "      <td>2.079442</td>\n",
       "      <td>7.586296</td>\n",
       "      <td>7.586296</td>\n",
       "      <td>...</td>\n",
       "      <td>0</td>\n",
       "      <td>0</td>\n",
       "      <td>0</td>\n",
       "      <td>1</td>\n",
       "      <td>0</td>\n",
       "      <td>0</td>\n",
       "      <td>0</td>\n",
       "      <td>0</td>\n",
       "      <td>1</td>\n",
       "      <td>0</td>\n",
       "    </tr>\n",
       "    <tr>\n",
       "      <th>17</th>\n",
       "      <td>72</td>\n",
       "      <td>9.286560</td>\n",
       "      <td>1.098612</td>\n",
       "      <td>1.609438</td>\n",
       "      <td>1.609438</td>\n",
       "      <td>1.386294</td>\n",
       "      <td>4</td>\n",
       "      <td>1.791759</td>\n",
       "      <td>7.584773</td>\n",
       "      <td>7.584773</td>\n",
       "      <td>...</td>\n",
       "      <td>0</td>\n",
       "      <td>0</td>\n",
       "      <td>0</td>\n",
       "      <td>1</td>\n",
       "      <td>0</td>\n",
       "      <td>0</td>\n",
       "      <td>0</td>\n",
       "      <td>0</td>\n",
       "      <td>1</td>\n",
       "      <td>0</td>\n",
       "    </tr>\n",
       "    <tr>\n",
       "      <th>18</th>\n",
       "      <td>66</td>\n",
       "      <td>9.524859</td>\n",
       "      <td>1.098612</td>\n",
       "      <td>1.609438</td>\n",
       "      <td>1.609438</td>\n",
       "      <td>1.386294</td>\n",
       "      <td>5</td>\n",
       "      <td>1.791759</td>\n",
       "      <td>7.603399</td>\n",
       "      <td>7.603399</td>\n",
       "      <td>...</td>\n",
       "      <td>0</td>\n",
       "      <td>0</td>\n",
       "      <td>0</td>\n",
       "      <td>1</td>\n",
       "      <td>0</td>\n",
       "      <td>0</td>\n",
       "      <td>0</td>\n",
       "      <td>0</td>\n",
       "      <td>1</td>\n",
       "      <td>0</td>\n",
       "    </tr>\n",
       "    <tr>\n",
       "      <th>19</th>\n",
       "      <td>70</td>\n",
       "      <td>8.930759</td>\n",
       "      <td>1.098612</td>\n",
       "      <td>1.609438</td>\n",
       "      <td>1.609438</td>\n",
       "      <td>1.386294</td>\n",
       "      <td>5</td>\n",
       "      <td>1.945910</td>\n",
       "      <td>7.580189</td>\n",
       "      <td>7.583756</td>\n",
       "      <td>...</td>\n",
       "      <td>0</td>\n",
       "      <td>0</td>\n",
       "      <td>0</td>\n",
       "      <td>0</td>\n",
       "      <td>1</td>\n",
       "      <td>0</td>\n",
       "      <td>0</td>\n",
       "      <td>0</td>\n",
       "      <td>0</td>\n",
       "      <td>0</td>\n",
       "    </tr>\n",
       "  </tbody>\n",
       "</table>\n",
       "<p>20 rows × 290 columns</p>\n",
       "</div>"
      ],
      "text/plain": [
       "    LotFrontage   LotArea    Street  LotShape  Utilities  LandSlope  \\\n",
       "0            65  9.042040  1.098612  1.609438   1.609438   1.386294   \n",
       "1            80  9.169623  1.098612  1.609438   1.609438   1.386294   \n",
       "2            68  9.328212  1.098612  1.386294   1.609438   1.386294   \n",
       "3            60  9.164401  1.098612  1.386294   1.609438   1.386294   \n",
       "4            84  9.565284  1.098612  1.386294   1.609438   1.386294   \n",
       "5            85  9.555064  1.098612  1.386294   1.609438   1.386294   \n",
       "6            75  9.218804  1.098612  1.609438   1.609438   1.386294   \n",
       "7             0  9.247925  1.098612  1.386294   1.609438   1.386294   \n",
       "8            51  8.719481  1.098612  1.609438   1.609438   1.386294   \n",
       "9            50  8.912069  1.098612  1.609438   1.609438   1.386294   \n",
       "10           70  9.323758  1.098612  1.609438   1.609438   1.386294   \n",
       "11           85  9.386392  1.098612  1.386294   1.609438   1.386294   \n",
       "12            0  9.470317  1.098612  1.098612   1.609438   1.386294   \n",
       "13           91  9.273597  1.098612  1.386294   1.609438   1.386294   \n",
       "14            0  9.298443  1.098612  1.386294   1.609438   1.386294   \n",
       "15           51  8.719481  1.098612  1.609438   1.609438   1.386294   \n",
       "16            0  9.327412  1.098612  1.386294   1.609438   1.386294   \n",
       "17           72  9.286560  1.098612  1.609438   1.609438   1.386294   \n",
       "18           66  9.524859  1.098612  1.609438   1.609438   1.386294   \n",
       "19           70  8.930759  1.098612  1.609438   1.609438   1.386294   \n",
       "\n",
       "    OverallQual  OverallCond  YearBuilt  YearRemodAdd          ...            \\\n",
       "0             7     1.791759   7.602900      7.602900          ...             \n",
       "1             6     2.197225   7.589336      7.589336          ...             \n",
       "2             7     1.791759   7.601902      7.602401          ...             \n",
       "3             7     1.791759   7.557995      7.586296          ...             \n",
       "4             8     1.791759   7.601402      7.601402          ...             \n",
       "5             5     1.791759   7.597898      7.598900          ...             \n",
       "6             8     1.791759   7.603399      7.603898          ...             \n",
       "7             7     1.945910   7.587817      7.587817          ...             \n",
       "8             7     1.791759   7.566311      7.576097          ...             \n",
       "9             5     1.945910   7.570443      7.576097          ...             \n",
       "10            5     1.791759   7.583756      7.583756          ...             \n",
       "11            9     1.791759   7.603898      7.604396          ...             \n",
       "12            5     1.945910   7.582229      7.582229          ...             \n",
       "13            7     1.791759   7.604396      7.604894          ...             \n",
       "14            6     1.791759   7.581210      7.581210          ...             \n",
       "15            7     2.197225   7.565275      7.601902          ...             \n",
       "16            6     2.079442   7.586296      7.586296          ...             \n",
       "17            4     1.791759   7.584773      7.584773          ...             \n",
       "18            5     1.791759   7.603399      7.603399          ...             \n",
       "19            5     1.945910   7.580189      7.583756          ...             \n",
       "\n",
       "    SaleType_ConLw  SaleType_New  SaleType_Oth  SaleType_WD  \\\n",
       "0                0             0             0            1   \n",
       "1                0             0             0            1   \n",
       "2                0             0             0            1   \n",
       "3                0             0             0            1   \n",
       "4                0             0             0            1   \n",
       "5                0             0             0            1   \n",
       "6                0             0             0            1   \n",
       "7                0             0             0            1   \n",
       "8                0             0             0            1   \n",
       "9                0             0             0            1   \n",
       "10               0             0             0            1   \n",
       "11               0             1             0            0   \n",
       "12               0             0             0            1   \n",
       "13               0             1             0            0   \n",
       "14               0             0             0            1   \n",
       "15               0             0             0            1   \n",
       "16               0             0             0            1   \n",
       "17               0             0             0            1   \n",
       "18               0             0             0            1   \n",
       "19               0             0             0            0   \n",
       "\n",
       "    SaleCondition_Abnorml  SaleCondition_AdjLand  SaleCondition_Alloca  \\\n",
       "0                       0                      0                     0   \n",
       "1                       0                      0                     0   \n",
       "2                       0                      0                     0   \n",
       "3                       1                      0                     0   \n",
       "4                       0                      0                     0   \n",
       "5                       0                      0                     0   \n",
       "6                       0                      0                     0   \n",
       "7                       0                      0                     0   \n",
       "8                       1                      0                     0   \n",
       "9                       0                      0                     0   \n",
       "10                      0                      0                     0   \n",
       "11                      0                      0                     0   \n",
       "12                      0                      0                     0   \n",
       "13                      0                      0                     0   \n",
       "14                      0                      0                     0   \n",
       "15                      0                      0                     0   \n",
       "16                      0                      0                     0   \n",
       "17                      0                      0                     0   \n",
       "18                      0                      0                     0   \n",
       "19                      1                      0                     0   \n",
       "\n",
       "    SaleCondition_Family  SaleCondition_Normal  SaleCondition_Partial  \n",
       "0                      0                     1                      0  \n",
       "1                      0                     1                      0  \n",
       "2                      0                     1                      0  \n",
       "3                      0                     0                      0  \n",
       "4                      0                     1                      0  \n",
       "5                      0                     1                      0  \n",
       "6                      0                     1                      0  \n",
       "7                      0                     1                      0  \n",
       "8                      0                     0                      0  \n",
       "9                      0                     1                      0  \n",
       "10                     0                     1                      0  \n",
       "11                     0                     0                      1  \n",
       "12                     0                     1                      0  \n",
       "13                     0                     0                      1  \n",
       "14                     0                     1                      0  \n",
       "15                     0                     1                      0  \n",
       "16                     0                     1                      0  \n",
       "17                     0                     1                      0  \n",
       "18                     0                     1                      0  \n",
       "19                     0                     0                      0  \n",
       "\n",
       "[20 rows x 290 columns]"
      ]
     },
     "execution_count": 2,
     "metadata": {},
     "output_type": "execute_result"
    }
   ],
   "source": [
    "df_data = pd.DataFrame(data)\n",
    "df_data.iloc[0:20,]\n"
   ]
  },
  {
   "cell_type": "markdown",
   "metadata": {},
   "source": [
    "### 問題２：ホールド・アウト法によるデータの分割をしてください。\n",
    "条件：テストデータの割合は3割、random_stateは0、変数は「X_train, X_test, y_train, y_test」を使用"
   ]
  },
  {
   "cell_type": "code",
   "execution_count": 3,
   "metadata": {},
   "outputs": [],
   "source": [
    "from sklearn.model_selection import train_test_split\n",
    "X_train, X_test, y_train, y_test = train_test_split(data, y, test_size=0.3, random_state=0)\n"
   ]
  },
  {
   "cell_type": "markdown",
   "metadata": {},
   "source": [
    "### 問題３：線形回帰モデルを作成してください。\n",
    " - モジュールのインポート\n",
    " - インスタンスの生成\n",
    " - モデルへのfit\n",
    " - scoreの表示"
   ]
  },
  {
   "cell_type": "code",
   "execution_count": 4,
   "metadata": {
    "collapsed": true
   },
   "outputs": [],
   "source": [
    "from sklearn.linear_model import LinearRegression\n"
   ]
  },
  {
   "cell_type": "code",
   "execution_count": 5,
   "metadata": {
    "collapsed": true
   },
   "outputs": [],
   "source": [
    "lr = LinearRegression()\n"
   ]
  },
  {
   "cell_type": "code",
   "execution_count": 6,
   "metadata": {},
   "outputs": [
    {
     "data": {
      "text/plain": [
       "LinearRegression(copy_X=True, fit_intercept=True, n_jobs=1, normalize=False)"
      ]
     },
     "execution_count": 6,
     "metadata": {},
     "output_type": "execute_result"
    }
   ],
   "source": [
    "lr.fit(X_train, y_train)\n"
   ]
  },
  {
   "cell_type": "code",
   "execution_count": 7,
   "metadata": {},
   "outputs": [
    {
     "name": "stdout",
     "output_type": "stream",
     "text": [
      "train: 0.929681\n",
      "test: 0.692411\n"
     ]
    }
   ],
   "source": [
    "print('train: %3f' % lr.score(X_train, y_train))\n",
    "print('test: %3f' % lr.score(X_test, y_test))\n"
   ]
  },
  {
   "cell_type": "markdown",
   "metadata": {},
   "source": [
    "↑特徴量がかなり大きいので過学習になりました..."
   ]
  },
  {
   "cell_type": "markdown",
   "metadata": {},
   "source": [
    "### 問題４：Ridge回帰モデルを作成してください。\n",
    " - モジュールのインポート\n",
    " - インスタンスの生成（引数：alpha=10）\n",
    " - モデルへのfit\n",
    " - テストデータでのscoreの表示"
   ]
  },
  {
   "cell_type": "code",
   "execution_count": 8,
   "metadata": {},
   "outputs": [],
   "source": [
    "from sklearn.linear_model import Ridge\n"
   ]
  },
  {
   "cell_type": "code",
   "execution_count": 9,
   "metadata": {
    "collapsed": true
   },
   "outputs": [],
   "source": [
    "model_ridge = Ridge(alpha=10)\n"
   ]
  },
  {
   "cell_type": "code",
   "execution_count": 10,
   "metadata": {},
   "outputs": [
    {
     "data": {
      "text/plain": [
       "Ridge(alpha=10, copy_X=True, fit_intercept=True, max_iter=None,\n",
       "   normalize=False, random_state=None, solver='auto', tol=0.001)"
      ]
     },
     "execution_count": 10,
     "metadata": {},
     "output_type": "execute_result"
    }
   ],
   "source": [
    "model_ridge.fit(X_train, y_train)\n"
   ]
  },
  {
   "cell_type": "code",
   "execution_count": 11,
   "metadata": {},
   "outputs": [
    {
     "name": "stdout",
     "output_type": "stream",
     "text": [
      "train: 0.898125\n",
      "test: 0.809014\n"
     ]
    }
   ],
   "source": [
    "print('train: %3f' % model_ridge.score(X_train, y_train))\n",
    "print('test: %3f' % model_ridge.score(X_test, y_test))\n"
   ]
  },
  {
   "cell_type": "markdown",
   "metadata": {},
   "source": [
    "↑trainデータでの制度は下がったが、過学習は抑えられた。といってもまだ過学習してる..."
   ]
  },
  {
   "cell_type": "markdown",
   "metadata": {},
   "source": [
    "### 問題５：LASSOモデルを作成してください。\n",
    " - モジュールのインポート\n",
    " - インスタンスの生成（引数：alpha=200）\n",
    " - モデルへのfit\n",
    " - テストデータでのscoreの表示"
   ]
  },
  {
   "cell_type": "code",
   "execution_count": 12,
   "metadata": {
    "collapsed": true
   },
   "outputs": [],
   "source": [
    "from sklearn.linear_model import Lasso\n"
   ]
  },
  {
   "cell_type": "code",
   "execution_count": 13,
   "metadata": {
    "collapsed": true
   },
   "outputs": [],
   "source": [
    "model_lasso = Lasso(alpha=200)\n"
   ]
  },
  {
   "cell_type": "code",
   "execution_count": 14,
   "metadata": {},
   "outputs": [
    {
     "data": {
      "text/plain": [
       "Lasso(alpha=200, copy_X=True, fit_intercept=True, max_iter=1000,\n",
       "   normalize=False, positive=False, precompute=False, random_state=None,\n",
       "   selection='cyclic', tol=0.0001, warm_start=False)"
      ]
     },
     "execution_count": 14,
     "metadata": {},
     "output_type": "execute_result"
    }
   ],
   "source": [
    "model_lasso.fit(X_train, y_train)\n"
   ]
  },
  {
   "cell_type": "code",
   "execution_count": 15,
   "metadata": {},
   "outputs": [
    {
     "name": "stdout",
     "output_type": "stream",
     "text": [
      "train: 0.888055\n",
      "test: 0.808106\n"
     ]
    }
   ],
   "source": [
    "print('train: %3f' % model_lasso.score(X_train, y_train))\n",
    "print('test: %3f' % model_lasso.score(X_test, y_test))\n"
   ]
  },
  {
   "cell_type": "markdown",
   "metadata": {},
   "source": [
    "↑testデータでの精度はあまりRidgeと変わらない結果に。\n",
    "\n",
    "せっかくなので生成された多項式の係数を見てみる"
   ]
  },
  {
   "cell_type": "code",
   "execution_count": 16,
   "metadata": {},
   "outputs": [
    {
     "name": "stdout",
     "output_type": "stream",
     "text": [
      "特徴量の数: 1022\n",
      "Lassoで重みが0となる特徴量の数: 205\n"
     ]
    }
   ],
   "source": [
    "print('特徴量の数: {}'.format(len(X_train)))\n",
    "print('Lassoで重みが0となる特徴量の数: {}'.format(len(np.where(model_lasso.coef_==0)[0])))"
   ]
  },
  {
   "cell_type": "markdown",
   "metadata": {},
   "source": [
    "### 問題６：Elastic Netモデルを作成してください。\n",
    " - モジュールのインポート\n",
    " - インスタンスの生成（引数：alpha=0.1, l1_ratio=0.9）\n",
    " - モデルへのfit\n",
    " - scoreの表示"
   ]
  },
  {
   "cell_type": "code",
   "execution_count": 17,
   "metadata": {
    "collapsed": true
   },
   "outputs": [],
   "source": [
    "from sklearn.linear_model import ElasticNet\n"
   ]
  },
  {
   "cell_type": "code",
   "execution_count": 18,
   "metadata": {
    "collapsed": true
   },
   "outputs": [],
   "source": [
    "model_en = ElasticNet(alpha=0.1, l1_ratio=0.9)\n"
   ]
  },
  {
   "cell_type": "code",
   "execution_count": 19,
   "metadata": {},
   "outputs": [
    {
     "name": "stderr",
     "output_type": "stream",
     "text": [
      "/Users/kakitaniyuto/.pyenv/versions/anaconda3-4.4.0/lib/python3.6/site-packages/sklearn/linear_model/coordinate_descent.py:484: ConvergenceWarning: Objective did not converge. You might want to increase the number of iterations. Fitting data with very small alpha may cause precision problems.\n",
      "  ConvergenceWarning)\n"
     ]
    },
    {
     "data": {
      "text/plain": [
       "ElasticNet(alpha=0.1, copy_X=True, fit_intercept=True, l1_ratio=0.9,\n",
       "      max_iter=1000, normalize=False, positive=False, precompute=False,\n",
       "      random_state=None, selection='cyclic', tol=0.0001, warm_start=False)"
      ]
     },
     "execution_count": 19,
     "metadata": {},
     "output_type": "execute_result"
    }
   ],
   "source": [
    "model_en.fit(X_train, y_train)\n"
   ]
  },
  {
   "cell_type": "code",
   "execution_count": 20,
   "metadata": {},
   "outputs": [
    {
     "name": "stdout",
     "output_type": "stream",
     "text": [
      "train: 0.897857\n",
      "test: 0.809028\n"
     ]
    }
   ],
   "source": [
    "print('train: %3f' % model_en.score(X_train, y_train))\n",
    "print('test: %3f' % model_en.score(X_test, y_test))\n"
   ]
  },
  {
   "cell_type": "markdown",
   "metadata": {},
   "source": [
    "↑Ridgeとほぼ同じ結果に。l1_ratio=0.9にしたので当たり前といえば当たり前。"
   ]
  },
  {
   "cell_type": "markdown",
   "metadata": {},
   "source": [
    "特徴量がとても多かったので、せっかくだから重みのうち何個が0になったか調べてみる。"
   ]
  },
  {
   "cell_type": "code",
   "execution_count": 21,
   "metadata": {},
   "outputs": [
    {
     "name": "stdout",
     "output_type": "stream",
     "text": [
      "特徴量の数: 1022\n",
      "重みが0となる特徴量の数\n",
      "- Ridge: 6\n",
      "- Lasso: 205\n",
      "- ElasticNet: 6\n"
     ]
    }
   ],
   "source": [
    "print('特徴量の数: {}'.format(len(X_train)))\n",
    "\n",
    "print('重みが0となる特徴量の数')\n",
    "print('- Ridge: {}'.format(len(np.where(model_ridge.coef_==0)[0])))\n",
    "print('- Lasso: {}'.format(len(np.where(model_lasso.coef_==0)[0])))\n",
    "print('- ElasticNet: {}'.format(len(np.where(model_en.coef_==0)[0])))"
   ]
  },
  {
   "cell_type": "markdown",
   "metadata": {},
   "source": [
    "ちゃんとLassoの特徴が現れており、次元削減が行われていた。"
   ]
  }
 ],
 "metadata": {
  "kernelspec": {
   "display_name": "Python 3",
   "language": "python",
   "name": "python3"
  },
  "language_info": {
   "codemirror_mode": {
    "name": "ipython",
    "version": 3
   },
   "file_extension": ".py",
   "mimetype": "text/x-python",
   "name": "python",
   "nbconvert_exporter": "python",
   "pygments_lexer": "ipython3",
   "version": "3.6.1"
  }
 },
 "nbformat": 4,
 "nbformat_minor": 2
}
